{
 "cells": [
  {
   "cell_type": "code",
   "execution_count": 1,
   "metadata": {},
   "outputs": [
    {
     "name": "stderr",
     "output_type": "stream",
     "text": [
      "/tmp/ipykernel_476466/1454319498.py:20: FutureWarning: The behavior of DataFrame concatenation with empty or all-NA entries is deprecated. In a future version, this will no longer exclude empty or all-NA columns when determining the result dtypes. To retain the old behavior, exclude the relevant entries before the concat operation.\n",
      "  df_combinado = pd.concat(lista_dataframes, ignore_index=True)\n"
     ]
    }
   ],
   "source": [
    "import os\n",
    "import pandas as pd\n",
    "\n",
    "# Definir o caminho onde os arquivos CSV estão localizados\n",
    "caminho_arquivos = '/workspaces/betania.silva/ssl_tools/contrastive-predictive-coding-for-har/results/freeze'  # Substitua pelo caminho real\n",
    "\n",
    "# Listar todos os arquivos CSV no diretório\n",
    "arquivos_csv = [f for f in os.listdir(caminho_arquivos) if f.endswith('.csv')]\n",
    "\n",
    "# Lista para armazenar dataframes\n",
    "lista_dataframes = []\n",
    "\n",
    "# Ler e adicionar cada CSV à lista de dataframes\n",
    "for arquivo in arquivos_csv:\n",
    "    caminho_completo = os.path.join(caminho_arquivos, arquivo)\n",
    "    df = pd.read_csv(caminho_completo)\n",
    "    lista_dataframes.append(df)\n",
    "\n",
    "# Concatenar todos os dataframes em um só\n",
    "df_combinado = pd.concat(lista_dataframes, ignore_index=True)\n",
    "\n",
    "# Salvar o dataframe combinado em um novo arquivo CSV\n",
    "df_combinado.to_csv('/workspaces/betania.silva/ssl_tools/contrastive-predictive-coding-for-har/results/freezeATUALinho.csv', index=False)\n"
   ]
  }
 ],
 "metadata": {
  "kernelspec": {
   "display_name": "Python 3",
   "language": "python",
   "name": "python3"
  },
  "language_info": {
   "codemirror_mode": {
    "name": "ipython",
    "version": 3
   },
   "file_extension": ".py",
   "mimetype": "text/x-python",
   "name": "python",
   "nbconvert_exporter": "python",
   "pygments_lexer": "ipython3",
   "version": "3.8.10"
  }
 },
 "nbformat": 4,
 "nbformat_minor": 2
}
